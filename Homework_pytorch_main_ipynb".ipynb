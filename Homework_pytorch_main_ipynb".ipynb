{
  "cells": [
    {
      "cell_type": "markdown",
      "metadata": {
        "id": "view-in-github",
        "colab_type": "text"
      },
      "source": [
        "<a href=\"https://colab.research.google.com/github/hedgehoggyhoge/Detecting-Fake-News-with-Python-and-Machine-Learning/blob/main/Homework_pytorch_main_ipynb%22.ipynb\" target=\"_parent\"><img src=\"https://colab.research.google.com/assets/colab-badge.svg\" alt=\"Open In Colab\"/></a>"
      ]
    },
    {
      "cell_type": "markdown",
      "metadata": {
        "id": "1GnAPs7Y84v0"
      },
      "source": [
        "# Deep Q-Network implementation.\n",
        "\n",
        "This homework shamelessly demands you to implement DQN — an approximate Q-learning algorithm with experience replay and target networks — and see if it works any better this way.\n",
        "\n",
        "Original paper:\n",
        "https://arxiv.org/pdf/1312.5602.pdf"
      ]
    },
    {
      "cell_type": "markdown",
      "metadata": {
        "id": "8J0xcPGZ84v1"
      },
      "source": [
        "**This notebook is the main notebook.** Another notebook is given for debug. (**homework_pytorch_main**). The tasks are similar and share most of the code. The main difference is in environments. In main notebook it can take some 2 hours for the agent to start improving so it seems reasonable to launch the algorithm on a simpler env first. In debug one it is CartPole and it will train in several minutes.\n",
        "\n",
        "**We suggest the following pipeline:** First implement debug notebook then implement the main one.\n",
        "\n",
        "**About evaluation:** All points are given for the main notebook with one exception: if agent fails to beat the threshold in main notebook you can get 1 pt (instead of 3 pts) for beating the threshold in debug notebook."
      ]
    },
    {
      "cell_type": "code",
      "execution_count": null,
      "metadata": {
        "id": "eWVCZU3R84v2",
        "colab": {
          "base_uri": "https://localhost:8080/"
        },
        "outputId": "b5dd921c-40eb-4f93-e29e-3fb84623dbeb"
      },
      "outputs": [
        {
          "output_type": "stream",
          "name": "stdout",
          "text": [
            "Selecting previously unselected package xvfb.\n",
            "(Reading database ... 155335 files and directories currently installed.)\n",
            "Preparing to unpack .../xvfb_2%3a1.19.6-1ubuntu4.10_amd64.deb ...\n",
            "Unpacking xvfb (2:1.19.6-1ubuntu4.10) ...\n",
            "Setting up xvfb (2:1.19.6-1ubuntu4.10) ...\n",
            "Processing triggers for man-db (2.8.3-2ubuntu0.1) ...\n",
            "Starting virtual X frame buffer: Xvfb.\n"
          ]
        }
      ],
      "source": [
        "import sys, os\n",
        "if 'google.colab' in sys.modules and not os.path.exists('.setup_complete'):\n",
        "    !wget -q https://raw.githubusercontent.com/yandexdataschool/Practical_RL/master/setup_colab.sh -O- | bash\n",
        "        \n",
        "    !wget -q https://raw.githubusercontent.com/yandexdataschool/Practical_RL/master/week04_approx_rl/atari_wrappers.py\n",
        "    !wget -q https://raw.githubusercontent.com/yandexdataschool/Practical_RL/master/week04_approx_rl/utils.py\n",
        "    !wget -q https://raw.githubusercontent.com/yandexdataschool/Practical_RL/master/week04_approx_rl/replay_buffer.py\n",
        "    !wget -q https://raw.githubusercontent.com/yandexdataschool/Practical_RL/master/week04_approx_rl/framebuffer.py\n",
        "\n",
        "    !touch .setup_complete\n",
        "\n",
        "# This code creates a virtual display to draw game images on.\n",
        "# It will have no effect if your machine has a monitor.\n",
        "if type(os.environ.get(\"DISPLAY\")) is not str or len(os.environ.get(\"DISPLAY\")) == 0:\n",
        "    !bash ../xvfb start\n",
        "    os.environ['DISPLAY'] = ':1'"
      ]
    },
    {
      "cell_type": "markdown",
      "metadata": {
        "id": "YBzfKcy-84v4"
      },
      "source": [
        "__Frameworks__ - we'll accept this homework in any deep learning framework. This particular notebook was designed for PyTorch, but you find it easy to adapt it to almost any Python-based deep learning framework."
      ]
    },
    {
      "cell_type": "code",
      "execution_count": null,
      "metadata": {
        "id": "EazH_LNs84v4"
      },
      "outputs": [],
      "source": [
        "import random\n",
        "import numpy as np\n",
        "import torch\n",
        "import utils"
      ]
    },
    {
      "cell_type": "code",
      "execution_count": null,
      "metadata": {
        "id": "mU64JVda84v4"
      },
      "outputs": [],
      "source": [
        "import gym\n",
        "import numpy as np\n",
        "import matplotlib.pyplot as plt\n",
        "%matplotlib inline"
      ]
    },
    {
      "cell_type": "markdown",
      "metadata": {
        "id": "mbMG4J8w84v4"
      },
      "source": [
        "### Let's play some old videogames\n",
        "![img](https://github.com/yandexdataschool/Practical_RL/raw/master/yet_another_week/_resource/nerd.png)\n",
        "\n",
        "This time we're gonna apply approximate Q-learning to an Atari game called Breakout. It's not the hardest thing out there, but it's definitely way more complex than anything we tried before.\n"
      ]
    },
    {
      "cell_type": "code",
      "execution_count": null,
      "metadata": {
        "id": "bUDUcOMR84v5"
      },
      "outputs": [],
      "source": [
        "ENV_NAME = \"BreakoutNoFrameskip-v4\""
      ]
    },
    {
      "cell_type": "markdown",
      "metadata": {
        "id": "hx7-zz_l84v5"
      },
      "source": [
        "## Preprocessing (3 pts)"
      ]
    },
    {
      "cell_type": "markdown",
      "metadata": {
        "id": "RFor3PdG84v6"
      },
      "source": [
        "Let's see what observations look like."
      ]
    },
    {
      "cell_type": "code",
      "execution_count": null,
      "metadata": {
        "id": "jMmreFW384v6",
        "outputId": "b46f6f2f-d3c7-4b16-ff9e-b3146f633481",
        "colab": {
          "base_uri": "https://localhost:8080/",
          "height": 520
        }
      },
      "outputs": [
        {
          "output_type": "display_data",
          "data": {
            "text/plain": [
              "<Figure size 1152x648 with 10 Axes>"
            ],
            "image/png": "[encoded data removed]"
          },
          "metadata": {
            "needs_background": "light"
          }
        }
      ],
      "source": [
        "env = gym.make(ENV_NAME)\n",
        "env.reset()\n",
        "\n",
        "n_cols = 5\n",
        "n_rows = 2\n",
        "fig = plt.figure(figsize=(16, 9))\n",
        "\n",
        "for row in range(n_rows):\n",
        "    for col in range(n_cols):\n",
        "        ax = fig.add_subplot(n_rows, n_cols, row * n_cols + col + 1)\n",
        "        ax.imshow(env.render('rgb_array'))\n",
        "        env.step(env.action_space.sample())\n",
        "plt.show()"
      ]
    },
    {
      "cell_type": "markdown",
      "metadata": {
        "id": "bE71dhnM84v7"
      },
      "source": [
        "**Let's play a little.**\n",
        "\n",
        "Pay attention to zoom and fps args of play function. Control: A, D, space."
      ]
    },
    {
      "cell_type": "code",
      "execution_count": null,
      "metadata": {
        "id": "IOcVCPH384v7"
      },
      "outputs": [],
      "source": [
        "# # Does not work in Colab.\n",
        "# # Use KeyboardInterrupt (Kernel → Interrupt in Jupyter) to continue.\n",
        "\n",
        "# from gym.utils.play import play\n",
        "\n",
        "# play(env=gym.make(ENV_NAME), zoom=5, fps=30)"
      ]
    },
    {
      "cell_type": "markdown",
      "metadata": {
        "id": "N8kMebLS84v7"
      },
      "source": [
        "### Processing game image \n",
        "\n",
        "Raw Atari images are large, 210x160x3 by default. However, we don't need that level of detail in order to learn from them.\n",
        "\n",
        "We can thus save a lot of time by preprocessing game image, including\n",
        "* Resizing to a smaller shape, 64x64\n",
        "* Converting to grayscale\n",
        "* Cropping irrelevant image parts (top, bottom and edges)\n",
        "\n",
        "Also please keep one dimension for channel so that final shape would be 1x64x64.\n",
        "\n",
        "Tip: You can implement your own grayscale converter and assign a huge weight to the red channel. This dirty trick is not necessary but it will speed up learning."
      ]
    },
    {
      "cell_type": "code",
      "source": [
        "import cv2"
      ],
      "metadata": {
        "id": "IgMwGhDJbeja"
      },
      "execution_count": null,
      "outputs": []
    },
    {
      "cell_type": "code",
      "execution_count": null,
      "metadata": {
        "id": "oTM2zDLP84v8"
      },
      "outputs": [],
      "source": [
        "from gym.core import ObservationWrapper\n",
        "from gym.spaces import Box\n",
        "\n",
        "\n",
        "class PreprocessAtariObs(ObservationWrapper):\n",
        "    def __init__(self, env):\n",
        "        \"\"\"A gym wrapper that crops, scales image into the desired shapes and grayscales it.\"\"\"\n",
        "        ObservationWrapper.__init__(self, env)\n",
        "\n",
        "        self.img_size = (1, 64, 64)\n",
        "        self.observation_space = Box(0.0, 1.0, self.img_size)\n",
        "\n",
        "\n",
        "    def _to_gray_scale(self, rgb, channel_weights=[0.8, 0.1, 0.1]):\n",
        "        gray_img = cv2.cvtColor(rgb, cv2.COLOR_BGR2GRAY)[None, :, :]\n",
        "        normalizer_image = (gray_img / 255).astype('float32')\n",
        "        return normalizer_image\n",
        "\n",
        "\n",
        "    def observation(self, img):\n",
        "        \"\"\"what happens to each observation\"\"\"\n",
        "\n",
        "        # Here's what you need to do:\n",
        "        #  * crop image, remove irrelevant parts\n",
        "        #  * resize image to self.img_size\n",
        "        #     (Use imresize from any library you want,\n",
        "        #      e.g. opencv, PIL, keras. Don't use skimage.imresize\n",
        "        #      because it is extremely slow.)\n",
        "        #  * cast image to grayscale\n",
        "        #  * convert image pixels to (0,1) range, float32 type\n",
        "        img = img[25:, :, :]\n",
        "        img = cv2.resize(img, self.img_size[1:])\n",
        "        img = self._to_gray_scale(img)\n",
        "        return img"
      ]
    },
    {
      "cell_type": "code",
      "source": [
        "import gym\n",
        "# spawn game instance for tests\n",
        "env = gym.make(ENV_NAME)  # create raw env\n",
        "env = PreprocessAtariObs(env)\n",
        "observation_shape = env.observation_space.shape\n",
        "n_actions = env.action_space.n\n",
        "env.reset()\n",
        "obs, _, _, _ = env.step(env.action_space.sample())\n",
        "\n",
        "# test observation\n",
        "assert obs.ndim == 3, \"observation must be [channel, h, w] even if there's just one channel\"\n",
        "assert obs.shape == observation_shape, obs.shape\n",
        "assert obs.dtype == 'float32'\n",
        "assert len(np.unique(obs)) > 2, \"your image must not be binary\"\n",
        "assert 0 <= np.min(obs) and np.max(\n",
        "    obs) <= 1, \"convert image pixels to [0,1] range\"\n",
        "\n",
        "assert np.max(obs) >= 0.5, \"It would be easier to see a brighter observation\"\n",
        "assert np.mean(obs) >= 0.1, \"It would be easier to see a brighter observation\"\n",
        "\n",
        "print(\"Formal tests seem fine. Here's an example of what you'll get.\")\n",
        "\n",
        "n_cols = 5\n",
        "n_rows = 2\n",
        "fig = plt.figure(figsize=(16, 9))\n",
        "obs = env.reset()\n",
        "for row in range(n_rows):\n",
        "    for col in range(n_cols):\n",
        "        ax = fig.add_subplot(n_rows, n_cols, row * n_cols + col + 1)\n",
        "        ax.imshow(obs[0, :, :], interpolation='none', cmap='gray')\n",
        "        obs, _, _, _ = env.step(env.action_space.sample())\n",
        "plt.show()"
      ],
      "metadata": {
        "colab": {
          "base_uri": "https://localhost:8080/",
          "height": 488
        },
        "id": "KxCb3D4fcBDW",
        "outputId": "0b059daa-6c06-45ec-dfbd-42e731945e56"
      },
      "execution_count": null,
      "outputs": [
        {
          "output_type": "stream",
          "name": "stdout",
          "text": [
            "Formal tests seem fine. Here's an example of what you'll get.\n"
          ]
        },
        {
          "output_type": "display_data",
          "data": {
            "text/plain": [
              "<Figure size 1152x648 with 10 Axes>"
            ],
            "image/png": "[encoded data removed]"
          },
          "metadata": {
            "needs_background": "light"
          }
        }
      ]
    },
    {
      "cell_type": "markdown",
      "metadata": {
        "id": "-NGnrHxn84v8"
      },
      "source": [
        "### Wrapping."
      ]
    },
    {
      "cell_type": "markdown",
      "metadata": {
        "id": "_uvzIDqY84v8"
      },
      "source": [
        "**About the game:** You have 5 lives and get points for breaking the wall. Higher bricks cost more than the lower ones. There are 4 actions: start game (should be called at the beginning and after each life is lost), move left, move right and do nothing. There are some common wrappers used for Atari environments."
      ]
    },
    {
      "cell_type": "code",
      "execution_count": null,
      "metadata": {
        "id": "eyzn6uOK84v9"
      },
      "outputs": [],
      "source": [
        "import atari_wrappers\n",
        "\n",
        "def PrimaryAtariWrap(env, clip_rewards=True):\n",
        "    assert 'NoFrameskip' in env.spec.id\n",
        "\n",
        "    # This wrapper holds the same action for <skip> frames and outputs\n",
        "    # the maximal pixel value of 2 last frames (to handle blinking\n",
        "    # in some envs)\n",
        "    env = atari_wrappers.MaxAndSkipEnv(env, skip=4)\n",
        "\n",
        "    # This wrapper sends done=True when each life is lost\n",
        "    # (not all the 5 lives that are givern by the game rules).\n",
        "    # It should make easier for the agent to understand that losing is bad.\n",
        "    env = atari_wrappers.EpisodicLifeEnv(env)\n",
        "\n",
        "    # This wrapper laucnhes the ball when an episode starts.\n",
        "    # Without it the agent has to learn this action, too.\n",
        "    # Actually it can but learning would take longer.\n",
        "    env = atari_wrappers.FireResetEnv(env)\n",
        "\n",
        "    # This wrapper transforms rewards to {-1, 0, 1} according to their sign\n",
        "    if clip_rewards:\n",
        "        env = atari_wrappers.ClipRewardEnv(env)\n",
        "\n",
        "    # This wrapper is yours :)\n",
        "    env = PreprocessAtariObs(env)\n",
        "    return env"
      ]
    },
    {
      "cell_type": "markdown",
      "metadata": {
        "id": "oMQ9g65J84v9"
      },
      "source": [
        "**Let's see if the game is still playable after applying the wrappers.**\n",
        "At playing the EpisodicLifeEnv wrapper seems not to work but actually it does (because after when life finishes a new ball is dropped automatically - it means that FireResetEnv wrapper understands that a new episode began)."
      ]
    },
    {
      "cell_type": "code",
      "execution_count": null,
      "metadata": {
        "id": "aIVyTXjZ84v9"
      },
      "outputs": [],
      "source": [
        "# # Does not work in Colab.\n",
        "# # Use KeyboardInterrupt (Kernel → Interrupt in Jupyter) to continue.\n",
        "\n",
        "# from gym.utils.play import play\n",
        "\n",
        "# def make_play_env():\n",
        "#     env = gym.make(ENV_NAME)\n",
        "#     env = PrimaryAtariWrap(env)\n",
        "# # in PyTorch images have shape [c, h, w] instead of common [h, w, c]\n",
        "#     env = atari_wrappers.AntiTorchWrapper(env)\n",
        "#     return env\n",
        "\n",
        "# play(make_play_env(), zoom=10, fps=3)"
      ]
    },
    {
      "cell_type": "markdown",
      "metadata": {
        "id": "VfRfbOjR84v9"
      },
      "source": [
        "### Frame buffer\n",
        "\n",
        "Our agent can only process one observation at a time, so we gotta make sure it contains enough information to find optimal actions. For instance, agent has to react to moving objects so it must be able to measure object's velocity.\n",
        "\n",
        "To do so, we introduce a buffer that stores 4 last images. This time everything is pre-implemented for you, not really by the staff of the course :)"
      ]
    },
    {
      "cell_type": "code",
      "execution_count": null,
      "metadata": {
        "id": "wfm9zIM784v-"
      },
      "outputs": [],
      "source": [
        "from framebuffer import FrameBuffer\n",
        "\n",
        "def make_env(clip_rewards=True, seed=None):\n",
        "    env = gym.make(ENV_NAME)  # create raw env\n",
        "    if seed is not None:\n",
        "        env.seed(seed)\n",
        "    env = PrimaryAtariWrap(env, clip_rewards)\n",
        "    env = FrameBuffer(env, n_frames=4, dim_order='pytorch')\n",
        "    return env\n",
        "\n",
        "env = make_env()\n",
        "env.reset()\n",
        "n_actions = env.action_space.n\n",
        "state_shape = env.observation_space.shape"
      ]
    },
    {
      "cell_type": "code",
      "execution_count": null,
      "metadata": {
        "id": "tFVyiSan84v-",
        "colab": {
          "base_uri": "https://localhost:8080/",
          "height": 1000
        },
        "outputId": "531b3052-b9d9-4874-ac57-a3f1a6351678"
      },
      "outputs": [
        {
          "output_type": "display_data",
          "data": {
            "text/plain": [
              "<Figure size 864x720 with 1 Axes>"
            ],
            "image/png": "[encoded data removed]"
          },
          "metadata": {
            "needs_background": "light"
          }
        },
        {
          "output_type": "display_data",
          "data": {
            "text/plain": [
              "<Figure size 1080x1080 with 1 Axes>"
            ],
            "image/png": "[encoded data removed]"
          },
          "metadata": {
            "needs_background": "light"
          }
        }
      ],
      "source": [
        "for _ in range(12):\n",
        "    obs, _, _, _ = env.step(env.action_space.sample())\n",
        "\n",
        "plt.figure(figsize=[12,10])\n",
        "plt.title(\"Game image\")\n",
        "plt.imshow(env.render(\"rgb_array\"))\n",
        "plt.show()\n",
        "\n",
        "plt.figure(figsize=[15,15])\n",
        "plt.title(\"Agent observation (4 frames top to bottom)\")\n",
        "plt.imshow(utils.img_by_obs(obs, state_shape), cmap='gray')\n",
        "plt.show()"
      ]
    },
    {
      "cell_type": "markdown",
      "metadata": {
        "id": "ms38mKoO84v-"
      },
      "source": [
        "## DQN as it is (4 pts)"
      ]
    },
    {
      "cell_type": "markdown",
      "metadata": {
        "id": "1Dcxccph84v-"
      },
      "source": [
        "### Building a network\n",
        "\n",
        "We now need to build a neural network that can map images to state q-values. This network will be called on every agent's step so it better not be resnet-152 unless you have an array of GPUs. Instead, you can use strided convolutions with a small number of features to save time and memory.\n",
        "\n",
        "You can build any architecture you want, but for reference, here's something that will more or less work:"
      ]
    },
    {
      "cell_type": "markdown",
      "metadata": {
        "id": "OYC7CVG984v-"
      },
      "source": [
        "![img](https://github.com/yandexdataschool/Practical_RL/raw/master/yet_another_week/_resource/dqn_arch.png)"
      ]
    },
    {
      "cell_type": "markdown",
      "metadata": {
        "id": "mzYHiHay84v_"
      },
      "source": [
        "**Dueling network: (+2 pts)**\n",
        "$$Q_{\\theta}(s, a) = V_{\\eta}(f_{\\xi}(s)) + A_{\\psi}(f_{\\xi}(s), a) - \\frac{\\sum_{a'}A_{\\psi}(f_{\\xi}(s), a')}{N_{actions}},$$\n",
        "where $\\xi$, $\\eta$, and $\\psi$ are, respectively, the parameters of the\n",
        "shared encoder $f_ξ$ , of the value stream $V_\\eta$ , and of the advan\n",
        "tage stream $A_\\psi$; and $\\theta = \\{\\xi, \\eta, \\psi\\}$ is their concatenation.\n",
        "\n",
        "For the architecture on the image $V$ and $A$ heads can follow the dense layer instead of $Q$. Please don't worry that the model becomes a little bigger."
      ]
    },
    {
      "cell_type": "code",
      "execution_count": null,
      "metadata": {
        "id": "m7ZbDZJo84v_",
        "colab": {
          "base_uri": "https://localhost:8080/"
        },
        "outputId": "2997e6db-566c-4818-c67c-69c19872bcfd"
      },
      "outputs": [
        {
          "output_type": "execute_result",
          "data": {
            "text/plain": [
              "device(type='cuda')"
            ]
          },
          "metadata": {},
          "execution_count": 14
        }
      ],
      "source": [
        "import torch\n",
        "import torch.nn as nn\n",
        "device = torch.device('cuda' if torch.cuda.is_available() else 'cpu')\n",
        "# those who have a GPU but feel unfair to use it can uncomment:\n",
        "# device = torch.device('cpu')\n",
        "device"
      ]
    },
    {
      "cell_type": "code",
      "execution_count": null,
      "metadata": {
        "id": "zWvO10eW84v_"
      },
      "outputs": [],
      "source": [
        "def conv2d_size_out(size, kernel_size, stride):\n",
        "    \"\"\"\n",
        "    common use case:\n",
        "    cur_layer_img_w = conv2d_size_out(cur_layer_img_w, kernel_size, stride)\n",
        "    cur_layer_img_h = conv2d_size_out(cur_layer_img_h, kernel_size, stride)\n",
        "    to understand the shape for dense layer's input\n",
        "    \"\"\"\n",
        "    return (size - (kernel_size - 1) - 1) // stride  + 1"
      ]
    },
    {
      "cell_type": "code",
      "execution_count": null,
      "metadata": {
        "id": "JR9J3XcJ84v_"
      },
      "outputs": [],
      "source": [
        "class DQNAgent(nn.Module):\n",
        "    def __init__(self, state_shape, n_actions, epsilon=0):\n",
        "\n",
        "        super().__init__()\n",
        "        self.epsilon = epsilon\n",
        "        self.n_actions = n_actions\n",
        "        self.state_shape = state_shape\n",
        "        \n",
        "        # Define your network body here. Please make sure agent is fully contained here\n",
        "        # nn.Flatten() can be useful\n",
        "        self.backbone = nn.Sequential(\n",
        "            nn.Conv2d(4, 16, kernel_size=3, stride=2),\n",
        "            nn.ReLU(),\n",
        "            nn.Conv2d(16, 32, kernel_size=3, stride=2),\n",
        "            nn.ReLU(),\n",
        "            nn.Conv2d(32, 64, kernel_size=3, stride=2),\n",
        "            nn.ReLU(),\n",
        "            nn.Flatten(),\n",
        "        )\n",
        "        self.v_network = nn.Sequential(\n",
        "            nn.Linear(3136, 256),\n",
        "            nn.ReLU(),\n",
        "            nn.Linear(256, 1)\n",
        "        )\n",
        "\n",
        "        self.a_network = nn.Sequential(\n",
        "            nn.Linear(3136, 256),\n",
        "            nn.ReLU(),\n",
        "            nn.Linear(256, self.n_actions)\n",
        "        )\n",
        "        \n",
        "\n",
        "    def forward(self, state_t):\n",
        "        \"\"\"\n",
        "        takes agent's observation (tensor), returns qvalues (tensor)\n",
        "        :param state_t: a batch of 4-frame buffers, shape = [batch_size, 4, h, w]\n",
        "        \"\"\"\n",
        "        # Use your network to compute qvalues for given state\n",
        "        features = self.backbone(state_t)\n",
        "        action_out = self.a_network(features)\n",
        "        qvalues = self.v_network(features) + action_out - action_out.mean(-1).unsqueeze(-1)\n",
        "\n",
        "        assert qvalues.requires_grad, \"qvalues must be a torch tensor with grad\"\n",
        "        assert (\n",
        "            len(qvalues.shape) == 2 and \n",
        "            qvalues.shape[0] == state_t.shape[0] and \n",
        "            qvalues.shape[1] == n_actions\n",
        "        )\n",
        "\n",
        "        return qvalues\n",
        "\n",
        "    def get_qvalues(self, states):\n",
        "        \"\"\"\n",
        "        like forward, but works on numpy arrays, not tensors\n",
        "        \"\"\"\n",
        "        model_device = next(self.parameters()).device\n",
        "        states = torch.tensor(states, device=model_device, dtype=torch.float32)\n",
        "        qvalues = self.forward(states)\n",
        "        return qvalues.data.cpu().numpy()\n",
        "\n",
        "    def sample_actions(self, qvalues):\n",
        "        \"\"\"pick actions given qvalues. Uses epsilon-greedy exploration strategy. \"\"\"\n",
        "        epsilon = self.epsilon\n",
        "        batch_size, n_actions = qvalues.shape\n",
        "\n",
        "        random_actions = np.random.choice(n_actions, size=batch_size)\n",
        "        best_actions = qvalues.argmax(axis=-1)\n",
        "\n",
        "        should_explore = np.random.choice(\n",
        "            [0, 1], batch_size, p=[1-epsilon, epsilon])\n",
        "        return np.where(should_explore, random_actions, best_actions)"
      ]
    },
    {
      "cell_type": "code",
      "execution_count": null,
      "metadata": {
        "id": "bEWNyygC84v_"
      },
      "outputs": [],
      "source": [
        "agent = DQNAgent(state_shape, n_actions, epsilon=0.5).to(device)"
      ]
    },
    {
      "cell_type": "markdown",
      "metadata": {
        "id": "CPEa9GKx84wA"
      },
      "source": [
        "Now let's try out our agent to see if it raises any errors."
      ]
    },
    {
      "cell_type": "code",
      "execution_count": null,
      "metadata": {
        "id": "WBc46tU684wA"
      },
      "outputs": [],
      "source": [
        "def evaluate(env, agent, n_games=1, greedy=False, t_max=10000):\n",
        "    \"\"\" Plays n_games full games. If greedy, picks actions as argmax(qvalues). Returns mean reward. \"\"\"\n",
        "    rewards = []\n",
        "    for _ in range(n_games):\n",
        "        s = env.reset()\n",
        "        reward = 0\n",
        "        for _ in range(t_max):\n",
        "            qvalues = agent.get_qvalues([s])\n",
        "            action = qvalues.argmax(axis=-1)[0] if greedy else agent.sample_actions(qvalues)[0]\n",
        "            s, r, done, _ = env.step(action)\n",
        "            reward += r\n",
        "            if done:\n",
        "                break\n",
        "\n",
        "        rewards.append(reward)\n",
        "    return np.mean(rewards)"
      ]
    },
    {
      "cell_type": "code",
      "execution_count": null,
      "metadata": {
        "id": "I28xoiw_84wA",
        "colab": {
          "base_uri": "https://localhost:8080/"
        },
        "outputId": "7ef4c8e0-c227-42df-caa7-99b7718d2a43"
      },
      "outputs": [
        {
          "output_type": "stream",
          "name": "stderr",
          "text": [
            "/usr/local/lib/python3.7/dist-packages/ipykernel_launcher.py:57: UserWarning: Creating a tensor from a list of numpy.ndarrays is extremely slow. Please consider converting the list to a single numpy.ndarray with numpy.array() before converting to a tensor. (Triggered internally at  ../torch/csrc/utils/tensor_new.cpp:201.)\n"
          ]
        },
        {
          "output_type": "execute_result",
          "data": {
            "text/plain": [
              "0.0"
            ]
          },
          "metadata": {},
          "execution_count": 19
        }
      ],
      "source": [
        "evaluate(env, agent, n_games=1)"
      ]
    },
    {
      "cell_type": "markdown",
      "metadata": {
        "id": "0OUdoM1q84wA"
      },
      "source": [
        "### Experience replay\n",
        "For this assignment, we provide you with experience replay buffer. If you implemented experience replay buffer in last week's assignment, you can copy-paste it here **to get 2 bonus points**.\n",
        "\n",
        "![img](https://github.com/yandexdataschool/Practical_RL/raw/master/yet_another_week/_resource/exp_replay.png)"
      ]
    },
    {
      "cell_type": "markdown",
      "metadata": {
        "id": "M1AgzXMA84wA"
      },
      "source": [
        "#### The interface is fairly simple:\n",
        "* `exp_replay.add(obs, act, rw, next_obs, done)` - saves (s,a,r,s',done) tuple into the buffer\n",
        "* `exp_replay.sample(batch_size)` - returns observations, actions, rewards, next_observations and is_done for `batch_size` random samples.\n",
        "* `len(exp_replay)` - returns number of elements stored in replay buffer."
      ]
    },
    {
      "cell_type": "code",
      "source": [
        "import random\n",
        "\n",
        "\n",
        "class ReplayBuffer(object):\n",
        "    def __init__(self, size):\n",
        "        \"\"\"\n",
        "        Create Replay buffer.\n",
        "        Parameters\n",
        "        ----------\n",
        "        size: int\n",
        "            Max number of transitions to store in the buffer. When the buffer\n",
        "            overflows the old memories are dropped.\n",
        "\n",
        "        Note: for this assignment you can pick any data structure you want.\n",
        "              If you want to keep it simple, you can store a list of tuples of (s, a, r, s') in self._storage\n",
        "              However you may find out there are faster and/or more memory-efficient ways to do so.\n",
        "        \"\"\"\n",
        "        self._storage = []\n",
        "        self._maxsize = size\n",
        "\n",
        "        # OPTIONAL: YOUR CODE\n",
        "\n",
        "    def __len__(self):\n",
        "        return len(self._storage)\n",
        "\n",
        "    def add(self, obs_t, action, reward, obs_tp1, done):\n",
        "        '''\n",
        "        Make sure, _storage will not exceed _maxsize. \n",
        "        Make sure, FIFO rule is being followed: the oldest examples has to be removed earlier\n",
        "        '''\n",
        "        data = (obs_t, action, reward, obs_tp1, done)\n",
        "\n",
        "        # add data to storage\n",
        "        self._storage.append((obs_t, action, reward, obs_tp1, done))\n",
        "        if len(self._storage) > self._maxsize:\n",
        "            self._storage = self._storage[1:]\n",
        "\n",
        "    def sample(self, batch_size):\n",
        "        \"\"\"Sample a batch of experiences.\n",
        "        Parameters\n",
        "        ----------\n",
        "        batch_size: int\n",
        "            How many transitions to sample.\n",
        "        Returns\n",
        "        -------\n",
        "        obs_batch: np.array\n",
        "            batch of observations\n",
        "        act_batch: np.array\n",
        "            batch of actions executed given obs_batch\n",
        "        rew_batch: np.array\n",
        "            rewards received as results of executing act_batch\n",
        "        next_obs_batch: np.array\n",
        "            next set of observations seen after executing act_batch\n",
        "        done_mask: np.array\n",
        "            done_mask[i] = 1 if executing act_batch[i] resulted in\n",
        "            the end of an episode and 0 otherwise.\n",
        "        \"\"\"\n",
        "\n",
        "        # collect <s,a,r,s',done> for each index\n",
        "        returned_data = random.sample(self._storage, min(len(self._storage), batch_size))\n",
        "        \n",
        "        states = np.array([data[0] for data in returned_data])\n",
        "        actions = np.array([data[1] for data in returned_data])\n",
        "        rewards = np.array([data[2] for data in returned_data])\n",
        "        states_next = np.array([data[3] for data in returned_data])\n",
        "        done_array = np.array([data[4] for data in returned_data])\n",
        "        \n",
        "        return (states, actions, rewards, states_next, done_array)"
      ],
      "metadata": {
        "id": "MVnSslVJ6Hxq"
      },
      "execution_count": null,
      "outputs": []
    },
    {
      "cell_type": "code",
      "execution_count": null,
      "metadata": {
        "id": "jN-9R1B084wA"
      },
      "outputs": [],
      "source": [
        "exp_replay = ReplayBuffer(10)\n",
        "\n",
        "for _ in range(30):\n",
        "    exp_replay.add(env.reset(), env.action_space.sample(), 1.0, env.reset(), done=False)\n",
        "\n",
        "obs_batch, act_batch, reward_batch, next_obs_batch, is_done_batch = exp_replay.sample(5)\n",
        "\n",
        "assert len(exp_replay) == 10, \"experience replay size should be 10 because that's what maximum capacity is\""
      ]
    },
    {
      "cell_type": "code",
      "execution_count": null,
      "metadata": {
        "id": "C2EG6Hjr84wB"
      },
      "outputs": [],
      "source": [
        "def play_and_record(initial_state, agent, env, exp_replay, n_steps=1):\n",
        "    \"\"\"\n",
        "    Play the game for exactly n_steps, record every (s,a,r,s', done) to replay buffer. \n",
        "    Whenever game ends, add record with done=True and reset the game.\n",
        "    It is guaranteed that env has done=False when passed to this function.\n",
        "\n",
        "    PLEASE DO NOT RESET ENV UNLESS IT IS \"DONE\"\n",
        "\n",
        "    :returns: return sum of rewards over time and the state in which the env stays\n",
        "    \"\"\"\n",
        "    s = initial_state\n",
        "    sum_rewards = 0\n",
        "    \n",
        "  \n",
        "    for _ in range(n_steps):\n",
        "      action = agent.sample_actions(agent.get_qvalues(torch.tensor(s[None, :])))\n",
        "      action = action[0]\n",
        "      next_s, r, done, _ = env.step(action)\n",
        "      exp_replay.add(s, action, r, next_s, done)\n",
        "      sum_rewards += r\n",
        "      if done:\n",
        "        s = env.reset()\n",
        "      else:\n",
        "        s = next_s\n",
        "\n",
        "    return sum_rewards, s"
      ]
    },
    {
      "cell_type": "code",
      "execution_count": null,
      "metadata": {
        "id": "oBLJQHoP84wB",
        "colab": {
          "base_uri": "https://localhost:8080/"
        },
        "outputId": "68968683-7f64-4f77-e94e-93ac5b6a7a92"
      },
      "outputs": [
        {
          "output_type": "stream",
          "name": "stderr",
          "text": [
            "/usr/local/lib/python3.7/dist-packages/ipykernel_launcher.py:57: UserWarning: To copy construct from a tensor, it is recommended to use sourceTensor.clone().detach() or sourceTensor.clone().detach().requires_grad_(True), rather than torch.tensor(sourceTensor).\n"
          ]
        },
        {
          "output_type": "stream",
          "name": "stdout",
          "text": [
            "Well done!\n"
          ]
        }
      ],
      "source": [
        "# testing your code.\n",
        "exp_replay = ReplayBuffer(2000)\n",
        "\n",
        "state = env.reset()\n",
        "play_and_record(state, agent, env, exp_replay, n_steps=1000)\n",
        "\n",
        "# if you're using your own experience replay buffer, some of those tests may need correction.\n",
        "# just make sure you know what your code does\n",
        "assert len(exp_replay) == 1000, \\\n",
        "    \"play_and_record should have added exactly 1000 steps, \" \\\n",
        "    \"but instead added %i\" % len(exp_replay)\n",
        "is_dones = list(zip(*exp_replay._storage))[-1]\n",
        "\n",
        "assert 0 < np.mean(is_dones) < 0.1, \\\n",
        "    \"Please make sure you restart the game whenever it is 'done' and \" \\\n",
        "    \"record the is_done correctly into the buffer. Got %f is_done rate over \" \\\n",
        "    \"%i steps. [If you think it's your tough luck, just re-run the test]\" % (\n",
        "        np.mean(is_dones), len(exp_replay))\n",
        "\n",
        "for _ in range(100):\n",
        "    obs_batch, act_batch, reward_batch, next_obs_batch, is_done_batch = exp_replay.sample(10)\n",
        "    assert obs_batch.shape == next_obs_batch.shape == (10,) + state_shape\n",
        "    assert act_batch.shape == (10,), \\\n",
        "        \"actions batch should have shape (10,) but is instead %s\" % str(act_batch.shape)\n",
        "    assert reward_batch.shape == (10,), \\\n",
        "        \"rewards batch should have shape (10,) but is instead %s\" % str(reward_batch.shape)\n",
        "    assert is_done_batch.shape == (10,), \\\n",
        "        \"is_done batch should have shape (10,) but is instead %s\" % str(is_done_batch.shape)\n",
        "    assert [int(i) in (0, 1) for i in is_dones], \\\n",
        "        \"is_done should be strictly True or False\"\n",
        "    assert [0 <= a < n_actions for a in act_batch], \"actions should be within [0, n_actions)\"\n",
        "\n",
        "print(\"Well done!\")"
      ]
    },
    {
      "cell_type": "markdown",
      "metadata": {
        "id": "CiJxltAv84wB"
      },
      "source": [
        "### Target networks\n",
        "\n",
        "We also employ the so called \"target network\" - a copy of neural network weights to be used for reference Q-values:\n",
        "\n",
        "The network itself is an exact copy of agent network, but it's parameters are not trained. Instead, they are moved here from agent's actual network every so often.\n",
        "\n",
        "$$ Q_{reference}(s,a) = r + \\gamma \\cdot \\max _{a'} Q_{target}(s',a') $$\n",
        "\n",
        "![img](https://github.com/yandexdataschool/Practical_RL/raw/master/yet_another_week/_resource/target_net.png)"
      ]
    },
    {
      "cell_type": "code",
      "execution_count": null,
      "metadata": {
        "id": "mhmDScR484wB",
        "colab": {
          "base_uri": "https://localhost:8080/"
        },
        "outputId": "47f510cf-a6b6-4d93-f2e5-bcc8f9fc6ef6"
      },
      "outputs": [
        {
          "output_type": "execute_result",
          "data": {
            "text/plain": [
              "<All keys matched successfully>"
            ]
          },
          "metadata": {},
          "execution_count": 24
        }
      ],
      "source": [
        "target_network = DQNAgent(agent.state_shape, agent.n_actions, epsilon=0.5).to(device)\n",
        "# This is how you can load weights from agent into target network\n",
        "target_network.load_state_dict(agent.state_dict())"
      ]
    },
    {
      "cell_type": "markdown",
      "metadata": {
        "id": "40lwSdmc84wB"
      },
      "source": [
        "### Learning with... Q-learning\n",
        "Here we write a function similar to `agent.update` from tabular q-learning."
      ]
    },
    {
      "cell_type": "markdown",
      "metadata": {
        "id": "e5Dyv9u184wB"
      },
      "source": [
        "Compute Q-learning TD error:\n",
        "\n",
        "$$ L = { 1 \\over N} \\sum_i [ Q_{\\theta}(s,a) - Q_{reference}(s,a) ] ^2 $$\n",
        "\n",
        "With Q-reference defined as\n",
        "\n",
        "$$ Q_{reference}(s,a) = r(s,a) + \\gamma \\cdot max_{a'} Q_{target}(s', a') $$\n",
        "\n",
        "Where\n",
        "* $Q_{target}(s',a')$ denotes Q-value of next state and next action predicted by __target_network__\n",
        "* $s, a, r, s'$ are current state, action, reward and next state respectively\n",
        "* $\\gamma$ is a discount factor defined two cells above.\n",
        "\n",
        "\n",
        "__Note 1:__ there's an example input below. Feel free to experiment with it before you write the function.\n",
        "\n",
        "__Note 2:__ compute_td_loss is a source of 99% of bugs in this homework. If reward doesn't improve, it often helps to go through it line by line [with a rubber duck](https://rubberduckdebugging.com/).\n",
        "\n",
        "**Double DQN (+2 pts)**\n",
        "\n",
        "$$ Q_{reference}(s,a) = r(s, a) + \\gamma \\cdot\n",
        "Q_{target}(s',argmax_{a'}Q_\\theta(s', a')) $$"
      ]
    },
    {
      "cell_type": "code",
      "execution_count": null,
      "metadata": {
        "id": "n8pkRYNE84wC"
      },
      "outputs": [],
      "source": [
        "def compute_td_loss(states, actions, rewards, next_states, is_done,\n",
        "                    agent, target_network,\n",
        "                    gamma=0.99,\n",
        "                    check_shapes=False,\n",
        "                    device=device):\n",
        "    \"\"\" Compute td loss using torch operations only. Use the formulae above. \"\"\"\n",
        "    states = torch.tensor(states, device=device, dtype=torch.float32)    # shape: [batch_size, *state_shape]\n",
        "    actions = torch.tensor(actions, device=device, dtype=torch.int64)    # shape: [batch_size]\n",
        "    rewards = torch.tensor(rewards, device=device, dtype=torch.float32)  # shape: [batch_size]\n",
        "    # shape: [batch_size, *state_shape]\n",
        "    next_states = torch.tensor(next_states, device=device, dtype=torch.float)\n",
        "    is_done = torch.tensor(\n",
        "        is_done.astype('float32'),\n",
        "        device=device,\n",
        "        dtype=torch.float32,\n",
        "    )  # shape: [batch_size]\n",
        "    is_not_done = 1 - is_done\n",
        "\n",
        "    # get q-values for all actions in current states\n",
        "    predicted_qvalues = agent(states)  # shape: [batch_size, n_actions]\n",
        "\n",
        "    # compute q-values for all actions in next states\n",
        "    predicted_next_qvalues = target_network(next_states)  # shape: [batch_size, n_actions]\n",
        "    predicted_next_qvalues_online_network = agent(next_states)  # shape: [batch_size, n_actions]\n",
        "    \n",
        "    # select q-values for chosen actions\n",
        "    predicted_qvalues_for_actions = predicted_qvalues[range(len(actions)), actions]  # shape: [batch_size]\n",
        "\n",
        "    # compute V*(next_states) using predicted next q-values\n",
        "    next_state_values_indices = torch.max(predicted_next_qvalues_online_network, axis=1).indices\n",
        "    next_state_values = predicted_next_qvalues[range(len(actions)), next_state_values_indices]\n",
        "\n",
        "    assert next_state_values.dim() == 1 and next_state_values.shape[0] == states.shape[0], \\\n",
        "        \"must predict one value per state\"\n",
        "\n",
        "    # compute \"target q-values\" for loss - it's what's inside square parentheses in the above formula.\n",
        "    # at the last state use the simplified formula: Q(s,a) = r(s,a) since s' doesn't exist\n",
        "    # you can multiply next state values by is_not_done to achieve this.\n",
        "    target_qvalues_for_actions = torch.where(is_done.bool(), rewards, rewards + gamma * next_state_values)\n",
        "\n",
        "    # mean squared error loss to minimize\n",
        "    loss = torch.mean((predicted_qvalues_for_actions - target_qvalues_for_actions.detach()) ** 2)\n",
        "\n",
        "    if check_shapes:\n",
        "        assert predicted_next_qvalues.data.dim() == 2, \\\n",
        "            \"make sure you predicted q-values for all actions in next state\"\n",
        "        assert next_state_values.data.dim() == 1, \\\n",
        "            \"make sure you computed V(s') as maximum over just the actions axis and not all axes\"\n",
        "        assert target_qvalues_for_actions.data.dim() == 1, \\\n",
        "            \"there's something wrong with target q-values, they must be a vector\"\n",
        "\n",
        "    return loss"
      ]
    },
    {
      "cell_type": "markdown",
      "metadata": {
        "id": "2EO2Y_x084wC"
      },
      "source": [
        "Sanity checks"
      ]
    },
    {
      "cell_type": "code",
      "execution_count": null,
      "metadata": {
        "id": "6hIa_rUp84wC"
      },
      "outputs": [],
      "source": [
        "obs_batch, act_batch, reward_batch, next_obs_batch, is_done_batch = exp_replay.sample(10)\n",
        "\n",
        "loss = compute_td_loss(obs_batch, act_batch, reward_batch, next_obs_batch, is_done_batch,\n",
        "                       agent, target_network,\n",
        "                       gamma=0.99, check_shapes=True)\n",
        "loss.backward()\n",
        "\n",
        "assert loss.requires_grad and tuple(loss.data.size()) == (), \\\n",
        "    \"you must return scalar loss - mean over batch\"\n",
        "assert np.any(next(agent.parameters()).grad.data.cpu().numpy() != 0), \\\n",
        "    \"loss must be differentiable w.r.t. network weights\"\n",
        "assert np.all(next(target_network.parameters()).grad is None), \\\n",
        "    \"target network should not have grads\""
      ]
    },
    {
      "cell_type": "markdown",
      "metadata": {
        "id": "eBEnMkB884wC"
      },
      "source": [
        "## Main loop (3 pts)\n",
        "\n",
        "**If deadline is tonight and it has not converged:** It is ok. Send the notebook today and when it converges send it again.\n",
        "If the code is exactly the same points will not be discounted.\n",
        "\n",
        "It's time to put everything together and see if it learns anything."
      ]
    },
    {
      "cell_type": "code",
      "execution_count": null,
      "metadata": {
        "id": "UNRXTg4W84wC"
      },
      "outputs": [],
      "source": [
        "from tqdm import trange\n",
        "from IPython.display import clear_output\n",
        "import matplotlib.pyplot as plt"
      ]
    },
    {
      "cell_type": "code",
      "execution_count": null,
      "metadata": {
        "id": "2VlDeV_P84wD",
        "colab": {
          "base_uri": "https://localhost:8080/"
        },
        "outputId": "db6a599e-ad69-4763-f345-45a41f2cfc49"
      },
      "outputs": [
        {
          "output_type": "execute_result",
          "data": {
            "text/plain": [
              "<torch._C.Generator at 0x7f1a48b08e70>"
            ]
          },
          "metadata": {},
          "execution_count": 28
        }
      ],
      "source": [
        "seed = 42\n",
        "random.seed(seed)\n",
        "np.random.seed(seed)\n",
        "torch.manual_seed(seed)"
      ]
    },
    {
      "cell_type": "code",
      "execution_count": null,
      "metadata": {
        "id": "aKCIvylj84wD",
        "colab": {
          "base_uri": "https://localhost:8080/"
        },
        "outputId": "41a6512f-dee6-4b2a-edfb-7681bf36f179"
      },
      "outputs": [
        {
          "output_type": "execute_result",
          "data": {
            "text/plain": [
              "<All keys matched successfully>"
            ]
          },
          "metadata": {},
          "execution_count": 29
        }
      ],
      "source": [
        "env = make_env(seed)\n",
        "state_shape = env.observation_space.shape\n",
        "n_actions = env.action_space.n\n",
        "state = env.reset()\n",
        "\n",
        "agent = DQNAgent(state_shape, n_actions, epsilon=1).to(device)\n",
        "target_network = DQNAgent(state_shape, n_actions).to(device)\n",
        "target_network.load_state_dict(agent.state_dict())"
      ]
    },
    {
      "cell_type": "markdown",
      "metadata": {
        "id": "H8Slh2HN84wD"
      },
      "source": [
        "Buffer of size $10^4$ fits into 5 Gb RAM.\n",
        "\n",
        "Larger sizes ($10^5$ and $10^6$ are common) can be used. It can improve the learning, but $10^4$ is quite enough. $10^2$ will probably fail learning."
      ]
    },
    {
      "cell_type": "code",
      "execution_count": null,
      "metadata": {
        "id": "AYOtOmhw84wD",
        "colab": {
          "base_uri": "https://localhost:8080/"
        },
        "outputId": "1a08bd9a-177c-411d-ce36-fdfcdb62a9ea"
      },
      "outputs": [
        {
          "output_type": "stream",
          "name": "stderr",
          "text": [
            "/usr/local/lib/python3.7/dist-packages/ipykernel_launcher.py:57: UserWarning: To copy construct from a tensor, it is recommended to use sourceTensor.clone().detach() or sourceTensor.clone().detach().requires_grad_(True), rather than torch.tensor(sourceTensor).\n"
          ]
        },
        {
          "output_type": "stream",
          "name": "stdout",
          "text": [
            "10000\n"
          ]
        }
      ],
      "source": [
        "REPLAY_BUFFER_SIZE = 10**4\n",
        "N_STEPS = 100\n",
        "\n",
        "exp_replay = ReplayBuffer(REPLAY_BUFFER_SIZE)\n",
        "for i in range(REPLAY_BUFFER_SIZE // N_STEPS):\n",
        "    if not utils.is_enough_ram(min_available_gb=0.1):\n",
        "        print(\"\"\"\n",
        "            Less than 100 Mb RAM available. \n",
        "            Make sure the buffer size in not too huge.\n",
        "            Also check, maybe other processes consume RAM heavily.\n",
        "            \"\"\"\n",
        "             )\n",
        "        break\n",
        "    play_and_record(state, agent, env, exp_replay, n_steps=N_STEPS)\n",
        "    if len(exp_replay) == REPLAY_BUFFER_SIZE:\n",
        "        break\n",
        "print(len(exp_replay))"
      ]
    },
    {
      "cell_type": "code",
      "execution_count": null,
      "metadata": {
        "id": "JN41dpd784wD"
      },
      "outputs": [],
      "source": [
        "timesteps_per_epoch = 1\n",
        "batch_size = 16\n",
        "total_steps = 3 * 10**6\n",
        "decay_steps = 10**6\n",
        "\n",
        "opt = torch.optim.Adam(agent.parameters(), lr=1e-4)\n",
        "\n",
        "init_epsilon = 1\n",
        "final_epsilon = 0.1\n",
        "\n",
        "loss_freq = 50\n",
        "refresh_target_network_freq = 5000\n",
        "eval_freq = 5000\n",
        "\n",
        "max_grad_norm = 50\n",
        "\n",
        "n_lives = 5"
      ]
    },
    {
      "cell_type": "code",
      "execution_count": null,
      "metadata": {
        "id": "WrIOvChO84wD"
      },
      "outputs": [],
      "source": [
        "mean_rw_history = []\n",
        "td_loss_history = []\n",
        "grad_norm_history = []\n",
        "initial_state_v_history = []\n",
        "step = 0"
      ]
    },
    {
      "cell_type": "code",
      "execution_count": null,
      "metadata": {
        "id": "ZvnoY2l984wD"
      },
      "outputs": [],
      "source": [
        "import time\n",
        "\n",
        "def wait_for_keyboard_interrupt():\n",
        "    try:\n",
        "        while True:\n",
        "            time.sleep(1)\n",
        "    except KeyboardInterrupt:\n",
        "        pass"
      ]
    },
    {
      "cell_type": "code",
      "execution_count": null,
      "metadata": {
        "id": "Q5QxauLb84wE",
        "colab": {
          "base_uri": "https://localhost:8080/",
          "height": 988
        },
        "outputId": "74597ecd-3f6e-45b4-9304-00bcfadeba4c"
      },
      "outputs": [
        {
          "output_type": "stream",
          "name": "stdout",
          "text": [
            "buffer size = 10000, epsilon = 0.68950\n"
          ]
        },
        {
          "output_type": "display_data",
          "data": {
            "text/plain": [
              "<Figure size 1152x648 with 4 Axes>"
            ],
            "image/png": "[encoded data removed]"
          },
          "metadata": {
            "needs_background": "light"
          }
        },
        {
          "output_type": "stream",
          "name": "stderr",
          "text": [
            " 12%|█▏        | 345001/3000001 [1:56:03<754:41:33,  1.02s/it]/usr/local/lib/python3.7/dist-packages/ipykernel_launcher.py:57: UserWarning: To copy construct from a tensor, it is recommended to use sourceTensor.clone().detach() or sourceTensor.clone().detach().requires_grad_(True), rather than torch.tensor(sourceTensor).\n",
            " 12%|█▏        | 345610/3000001 [1:56:15<14:52:53, 49.55it/s]\n"
          ]
        },
        {
          "output_type": "error",
          "ename": "KeyboardInterrupt",
          "evalue": "ignored",
          "traceback": [
            "\u001b[0;31m---------------------------------------------------------------------------\u001b[0m",
            "\u001b[0;31mKeyboardInterrupt\u001b[0m                         Traceback (most recent call last)",
            "\u001b[0;32m<ipython-input-34-2333a182f88c>\u001b[0m in \u001b[0;36m<module>\u001b[0;34m()\u001b[0m\n\u001b[1;32m     15\u001b[0m         \u001b[0mobs_batch\u001b[0m\u001b[0;34m,\u001b[0m \u001b[0mact_batch\u001b[0m\u001b[0;34m,\u001b[0m \u001b[0mreward_batch\u001b[0m\u001b[0;34m,\u001b[0m \u001b[0mnext_obs_batch\u001b[0m\u001b[0;34m,\u001b[0m \u001b[0mis_done_batch\u001b[0m \u001b[0;34m=\u001b[0m \u001b[0mexp_replay\u001b[0m\u001b[0;34m.\u001b[0m\u001b[0msample\u001b[0m\u001b[0;34m(\u001b[0m\u001b[0mbatch_size\u001b[0m\u001b[0;34m)\u001b[0m\u001b[0;34m\u001b[0m\u001b[0;34m\u001b[0m\u001b[0m\n\u001b[1;32m     16\u001b[0m \u001b[0;34m\u001b[0m\u001b[0m\n\u001b[0;32m---> 17\u001b[0;31m         \u001b[0mloss\u001b[0m \u001b[0;34m=\u001b[0m \u001b[0mcompute_td_loss\u001b[0m\u001b[0;34m(\u001b[0m\u001b[0mobs_batch\u001b[0m\u001b[0;34m,\u001b[0m \u001b[0mact_batch\u001b[0m\u001b[0;34m,\u001b[0m \u001b[0mreward_batch\u001b[0m\u001b[0;34m,\u001b[0m \u001b[0mnext_obs_batch\u001b[0m\u001b[0;34m,\u001b[0m \u001b[0mis_done_batch\u001b[0m\u001b[0;34m,\u001b[0m \u001b[0magent\u001b[0m\u001b[0;34m,\u001b[0m \u001b[0mtarget_network\u001b[0m\u001b[0;34m)\u001b[0m\u001b[0;34m\u001b[0m\u001b[0;34m\u001b[0m\u001b[0m\n\u001b[0m\u001b[1;32m     18\u001b[0m \u001b[0;34m\u001b[0m\u001b[0m\n\u001b[1;32m     19\u001b[0m         \u001b[0mloss\u001b[0m\u001b[0;34m.\u001b[0m\u001b[0mbackward\u001b[0m\u001b[0;34m(\u001b[0m\u001b[0;34m)\u001b[0m\u001b[0;34m\u001b[0m\u001b[0;34m\u001b[0m\u001b[0m\n",
            "\u001b[0;32m<ipython-input-25-3cda2cfda601>\u001b[0m in \u001b[0;36mcompute_td_loss\u001b[0;34m(states, actions, rewards, next_states, is_done, agent, target_network, gamma, check_shapes, device)\u001b[0m\n\u001b[1;32m     21\u001b[0m \u001b[0;34m\u001b[0m\u001b[0m\n\u001b[1;32m     22\u001b[0m     \u001b[0;31m# compute q-values for all actions in next states\u001b[0m\u001b[0;34m\u001b[0m\u001b[0;34m\u001b[0m\u001b[0;34m\u001b[0m\u001b[0m\n\u001b[0;32m---> 23\u001b[0;31m     \u001b[0mpredicted_next_qvalues\u001b[0m \u001b[0;34m=\u001b[0m \u001b[0mtarget_network\u001b[0m\u001b[0;34m(\u001b[0m\u001b[0mnext_states\u001b[0m\u001b[0;34m)\u001b[0m  \u001b[0;31m# shape: [batch_size, n_actions]\u001b[0m\u001b[0;34m\u001b[0m\u001b[0;34m\u001b[0m\u001b[0m\n\u001b[0m\u001b[1;32m     24\u001b[0m     \u001b[0mpredicted_next_qvalues_online_network\u001b[0m \u001b[0;34m=\u001b[0m \u001b[0magent\u001b[0m\u001b[0;34m(\u001b[0m\u001b[0mnext_states\u001b[0m\u001b[0;34m)\u001b[0m  \u001b[0;31m# shape: [batch_size, n_actions]\u001b[0m\u001b[0;34m\u001b[0m\u001b[0;34m\u001b[0m\u001b[0m\n\u001b[1;32m     25\u001b[0m \u001b[0;34m\u001b[0m\u001b[0m\n",
            "\u001b[0;32m/usr/local/lib/python3.7/dist-packages/torch/nn/modules/module.py\u001b[0m in \u001b[0;36m_call_impl\u001b[0;34m(self, *input, **kwargs)\u001b[0m\n\u001b[1;32m   1098\u001b[0m         \u001b[0;31m# If we don't have any hooks, we want to skip the rest of the logic in\u001b[0m\u001b[0;34m\u001b[0m\u001b[0;34m\u001b[0m\u001b[0;34m\u001b[0m\u001b[0m\n\u001b[1;32m   1099\u001b[0m         \u001b[0;31m# this function, and just call forward.\u001b[0m\u001b[0;34m\u001b[0m\u001b[0;34m\u001b[0m\u001b[0;34m\u001b[0m\u001b[0m\n\u001b[0;32m-> 1100\u001b[0;31m         if not (self._backward_hooks or self._forward_hooks or self._forward_pre_hooks or _global_backward_hooks\n\u001b[0m\u001b[1;32m   1101\u001b[0m                 or _global_forward_hooks or _global_forward_pre_hooks):\n\u001b[1;32m   1102\u001b[0m             \u001b[0;32mreturn\u001b[0m \u001b[0mforward_call\u001b[0m\u001b[0;34m(\u001b[0m\u001b[0;34m*\u001b[0m\u001b[0minput\u001b[0m\u001b[0;34m,\u001b[0m \u001b[0;34m**\u001b[0m\u001b[0mkwargs\u001b[0m\u001b[0;34m)\u001b[0m\u001b[0;34m\u001b[0m\u001b[0;34m\u001b[0m\u001b[0m\n",
            "\u001b[0;31mKeyboardInterrupt\u001b[0m: "
          ]
        }
      ],
      "source": [
        "state = env.reset()\n",
        "with trange(step, total_steps + 1) as progress_bar:\n",
        "    for step in progress_bar:\n",
        "        if not utils.is_enough_ram():\n",
        "            print('less that 100 Mb RAM available, freezing')\n",
        "            print('make sure everything is ok and use KeyboardInterrupt to continue')\n",
        "            wait_for_keyboard_interrupt()\n",
        "\n",
        "        agent.epsilon = utils.linear_decay(init_epsilon, final_epsilon, step, decay_steps)\n",
        "\n",
        "        # play\n",
        "        _, state = play_and_record(state, agent, env, exp_replay, timesteps_per_epoch)\n",
        "\n",
        "        # train\n",
        "        obs_batch, act_batch, reward_batch, next_obs_batch, is_done_batch = exp_replay.sample(batch_size)\n",
        "\n",
        "        loss = compute_td_loss(obs_batch, act_batch, reward_batch, next_obs_batch, is_done_batch, agent, target_network)\n",
        "\n",
        "        loss.backward()\n",
        "        grad_norm = nn.utils.clip_grad_norm_(agent.parameters(), max_grad_norm)\n",
        "        opt.step()\n",
        "        opt.zero_grad()\n",
        "\n",
        "        if step % loss_freq == 0:\n",
        "            td_loss_history.append(loss.data.cpu().item())\n",
        "            grad_norm_history.append(grad_norm.cpu())\n",
        "\n",
        "        if step % refresh_target_network_freq == 0:\n",
        "            # Load agent weights into target_network\n",
        "            target_network.load_state_dict(agent.state_dict())\n",
        "\n",
        "        if step % eval_freq == 0:\n",
        "            mean_rw_history.append(evaluate(\n",
        "                make_env(clip_rewards=True, seed=step), agent, n_games=3 * n_lives, greedy=True)\n",
        "            )\n",
        "            initial_state_q_values = agent.get_qvalues(\n",
        "                [make_env(seed=step).reset()]\n",
        "            )\n",
        "            initial_state_v_history.append(np.max(initial_state_q_values))\n",
        "\n",
        "            clear_output(True)\n",
        "            print(\"buffer size = %i, epsilon = %.5f\" %\n",
        "                (len(exp_replay), agent.epsilon))\n",
        "\n",
        "            plt.figure(figsize=[16, 9])\n",
        "\n",
        "            plt.subplot(2, 2, 1)\n",
        "            plt.title(\"Mean reward per life\")\n",
        "            plt.plot(mean_rw_history)\n",
        "            plt.grid()\n",
        "\n",
        "            assert not np.isnan(td_loss_history[-1])\n",
        "            plt.subplot(2, 2, 2)\n",
        "            plt.title(\"TD loss history (smoothened)\")\n",
        "            plt.plot(utils.smoothen(td_loss_history))\n",
        "            plt.grid()\n",
        "\n",
        "            plt.subplot(2, 2, 3)\n",
        "            plt.title(\"Initial state V\")\n",
        "            plt.plot(initial_state_v_history)\n",
        "            plt.grid()\n",
        "\n",
        "            plt.subplot(2, 2, 4)\n",
        "            plt.title(\"Grad norm history (smoothened)\")\n",
        "            plt.plot(utils.smoothen(grad_norm_history))\n",
        "            plt.grid()\n",
        "\n",
        "            plt.show()"
      ]
    },
    {
      "cell_type": "markdown",
      "metadata": {
        "id": "i1EDc05G84wE"
      },
      "source": [
        "Agent is evaluated for 1 life, not for a whole episode of 5 lives. Rewards in evaluation are also truncated. Cuz this is what environment the agent is learning in and in this way mean rewards per life can be compared with initial state value\n",
        "\n",
        "**The goal is to get 15 points in the real env**. So 3 or better 4 points in the preprocessed one will probably be enough. You can interrupt learning then."
      ]
    },
    {
      "cell_type": "markdown",
      "metadata": {
        "id": "PupKgyH784wE"
      },
      "source": [
        "Final scoring is done on a whole episode with all 5 lives."
      ]
    },
    {
      "cell_type": "code",
      "execution_count": null,
      "metadata": {
        "id": "0hfpXo6m84wE",
        "colab": {
          "base_uri": "https://localhost:8080/"
        },
        "outputId": "6a258acb-00fd-40ed-f731-7e6eb3d20d7b"
      },
      "outputs": [
        {
          "output_type": "stream",
          "name": "stdout",
          "text": [
            "final score: 15.0\n",
            "Cool!\n"
          ]
        }
      ],
      "source": [
        "final_score = evaluate(\n",
        "  make_env(clip_rewards=False, seed=9),\n",
        "    agent, n_games=30, greedy=True, t_max=10 * 1000\n",
        ") * n_lives\n",
        "print('final score:', final_score)\n",
        "assert final_score >= 15, 'not as cool as DQN can'\n",
        "print('Cool!')"
      ]
    },
    {
      "cell_type": "markdown",
      "source": [
        "**Офигеть, ровно 15 хахахахахахахахах хахкаххахаха спасибо что поствили больше или равно)))))**"
      ],
      "metadata": {
        "id": "vsl1WZN3RhaX"
      }
    },
    {
      "cell_type": "markdown",
      "metadata": {
        "id": "iGTSXKZM84wE"
      },
      "source": [
        "## How to interpret plots:\n",
        "\n",
        "This aint no supervised learning so don't expect anything to improve monotonously. \n",
        "* **TD loss** is the MSE between agent's current Q-values and target Q-values. It may slowly increase or decrease, it's ok. The \"not ok\" behavior includes going NaN or stayng at exactly zero before agent has perfect performance.\n",
        "* **grad norm** just shows the intensivity of training. Not ok is growing to values of about 100 (or maybe even 50) though it depends on network architecture.\n",
        "* **mean reward** is the expected sum of r(s,a) agent gets over the full game session. It will oscillate, but on average it should get higher over time (after a few thousand iterations...). \n",
        " * In basic q-learning implementation it takes about 40k steps to \"warm up\" agent before it starts to get better.\n",
        "* **Initial state V** is the expected discounted reward for episode in the oppinion of the agent. It should behave more smoothly than **mean reward**. It should get higher over time but sometimes can experience drawdowns because of the agaent's overestimates.\n",
        "* **buffer size** - this one is simple. It should go up and cap at max size.\n",
        "* **epsilon** - agent's willingness to explore. If you see that agent's already at 0.01 epsilon before it's average reward is above 0 - it means you need to increase epsilon. Set it back to some 0.2 - 0.5 and decrease the pace at which it goes down.\n",
        "* Smoothing of plots is done with a gaussian kernel\n",
        "\n",
        "At first your agent will lose quickly. Then it will learn to suck less and at least hit the ball a few times before it loses. Finally it will learn to actually score points.\n",
        "\n",
        "**Training will take time.** A lot of it actually. Probably you will not see any improvment during first **150k** time steps (note that by default in this notebook agent is evaluated every 5000 time steps).\n",
        "\n",
        "But hey, long training time isn't _that_ bad:\n",
        "![img](https://github.com/yandexdataschool/Practical_RL/raw/master/yet_another_week/_resource/training.png)"
      ]
    },
    {
      "cell_type": "markdown",
      "metadata": {
        "id": "e5Oqo6yR84wF"
      },
      "source": [
        "## About hyperparameters:\n",
        "\n",
        "The task has something in common with supervised learning: loss is optimized through the buffer (instead of Train dataset). But the distribution of states and actions in the buffer **is not stationary** and depends on the policy that generated it. It can even happen that the mean TD error across the buffer is very low but the performance is extremely poor (imagine the agent collecting data to the buffer always manages to avoid the ball).\n",
        "\n",
        "* Total timesteps and training time: It seems to be so huge, but actually it is normal for RL.\n",
        "\n",
        "* $\\epsilon$ decay shedule was taken from the original paper and is like traditional for epsilon-greedy policies. At the beginning of the training the agent's greedy policy is poor so many random actions should be taken.\n",
        "\n",
        "* Optimizer: In the original paper RMSProp was used (they did not have Adam in 2013) and it can work not worse than Adam. For us Adam was default and it worked.\n",
        "\n",
        "* lr: $10^{-3}$ would probably be too huge\n",
        "\n",
        "* batch size: This one can be very important: if it is too small the agent can fail to learn. Huge batch takes more time to process. If batch of size 8 can not be processed on the hardware you use take 2 (or even 4) batches of size 4, divide the loss on them by 2 (or 4) and make optimization step after both backward() calls in torch.\n",
        "\n",
        "* target network update frequency: has something in common with learning rate. Too frequent updates can lead to divergence. Too rare can lead to slow leraning. For millions of total timesteps thousands of inner steps seem ok. One iteration of target network updating is an iteration of the (this time approximate) $\\gamma$-compression that stands behind Q-learning. The more inner steps it makes the more accurate is the compression.\n",
        "* max_grad_norm - just huge enough. In torch clip_grad_norm also evaluates the norm before clipping and it can be convenient for logging."
      ]
    },
    {
      "cell_type": "markdown",
      "metadata": {
        "id": "PdmPuo0Y84wF"
      },
      "source": [
        "### Video"
      ]
    },
    {
      "cell_type": "code",
      "execution_count": null,
      "metadata": {
        "id": "UJrPFKM684wF"
      },
      "outputs": [],
      "source": [
        "# Record sessions\n",
        "\n",
        "import gym.wrappers\n",
        "\n",
        "with gym.wrappers.Monitor(make_env(), directory=\"videos\", force=True) as env_monitor:\n",
        "    sessions = [evaluate(env_monitor, agent, n_games=n_lives, greedy=True) for _ in range(10)]"
      ]
    },
    {
      "cell_type": "code",
      "execution_count": null,
      "metadata": {
        "id": "TUnpsPxZ84wF",
        "colab": {
          "base_uri": "https://localhost:8080/",
          "height": 501
        },
        "outputId": "765f3edc-a967-4992-eded-03c2c9e47187"
      },
      "outputs": [
        {
          "output_type": "execute_result",
          "data": {
            "text/plain": [
              "<IPython.core.display.HTML object>"
            ],
            "text/html": [
              "\n",
              "<video width=\"640\" height=\"480\" controls>\n",
              "  <source src=\"data:video/mp4;base64,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\" type=\"video/mp4\">\n",
              "</video>\n"
            ]
          },
          "metadata": {},
          "execution_count": 37
        }
      ],
      "source": [
        "# Show video. This may not work in some setups. If it doesn't\n",
        "# work for you, you can download the videos and view them locally.\n",
        "\n",
        "from pathlib import Path\n",
        "from base64 import b64encode\n",
        "from IPython.display import HTML\n",
        "\n",
        "video_paths = sorted([s for s in Path('videos').iterdir() if s.suffix == '.mp4'])\n",
        "video_path = video_paths[-1]  # You can also try other indices\n",
        "\n",
        "if 'google.colab' in sys.modules:\n",
        "    # https://stackoverflow.com/a/57378660/1214547\n",
        "    with video_path.open('rb') as fp:\n",
        "        mp4 = fp.read()\n",
        "    data_url = 'data:video/mp4;base64,' + b64encode(mp4).decode()\n",
        "else:\n",
        "    data_url = str(video_path)\n",
        "\n",
        "HTML(\"\"\"\n",
        "<video width=\"640\" height=\"480\" controls>\n",
        "  <source src=\"{}\" type=\"video/mp4\">\n",
        "</video>\n",
        "\"\"\".format(data_url))"
      ]
    },
    {
      "cell_type": "markdown",
      "metadata": {
        "id": "diTSLzCW84wF"
      },
      "source": [
        "## Let's have a closer look at this.\n",
        "\n",
        "If average episode score is below 200 using all 5 lives, then probably DQN has not converged fully. But anyway let's make a more complete record of an episode."
      ]
    },
    {
      "cell_type": "code",
      "execution_count": null,
      "metadata": {
        "id": "JSys0aO484wF",
        "colab": {
          "base_uri": "https://localhost:8080/"
        },
        "outputId": "4a355e82-b88b-4f22-851b-ca525cf4fad5"
      },
      "outputs": [
        {
          "output_type": "stream",
          "name": "stdout",
          "text": [
            "total reward for life: 6.0\n",
            "states\n",
            "v_mc\n",
            "v_agent\n",
            "q_spreads\n",
            "td_errors\n",
            "rewards\n",
            "episode_finished\n"
          ]
        }
      ],
      "source": [
        "eval_env = make_env(clip_rewards=False)\n",
        "record = utils.play_and_log_episode(eval_env, agent)\n",
        "print('total reward for life:', np.sum(record['rewards']))\n",
        "for key in record:\n",
        "    print(key)"
      ]
    },
    {
      "cell_type": "code",
      "execution_count": null,
      "metadata": {
        "id": "ojET9bZm84wG",
        "colab": {
          "base_uri": "https://localhost:8080/",
          "height": 350
        },
        "outputId": "b0cdc259-4af7-40cc-acb1-b65aab9cd44a"
      },
      "outputs": [
        {
          "output_type": "display_data",
          "data": {
            "text/plain": [
              "<Figure size 360x360 with 1 Axes>"
            ],
            "image/png": "[encoded data removed]"
          },
          "metadata": {
            "needs_background": "light"
          }
        }
      ],
      "source": [
        "fig = plt.figure(figsize=(5, 5))\n",
        "ax = fig.add_subplot(1, 1, 1)\n",
        "\n",
        "ax.scatter(record['v_mc'], record['v_agent'])\n",
        "ax.plot(sorted(record['v_mc']), sorted(record['v_mc']),\n",
        "       'black', linestyle='--', label='x=y')\n",
        "\n",
        "ax.grid()\n",
        "ax.legend()\n",
        "ax.set_title('State Value Estimates')\n",
        "ax.set_xlabel('Monte-Carlo')\n",
        "ax.set_ylabel('Agent')\n",
        "\n",
        "plt.show()"
      ]
    },
    {
      "cell_type": "markdown",
      "metadata": {
        "id": "3T8GTRSm84wG"
      },
      "source": [
        "$\\hat V_{Monte-Carlo}(s_t) = \\sum_{\\tau=0}^{episode~end} \\gamma^{\\tau-t}r_t$"
      ]
    },
    {
      "cell_type": "markdown",
      "metadata": {
        "id": "Un8bZO7i84wG"
      },
      "source": [
        "Is there a big bias? It's ok, anyway it works."
      ]
    },
    {
      "cell_type": "markdown",
      "metadata": {
        "id": "IO2I9d_084wG"
      },
      "source": [
        "## Bonus I (2 pts)"
      ]
    },
    {
      "cell_type": "markdown",
      "metadata": {
        "id": "51eEaOGZ84wG"
      },
      "source": [
        "**1.** Plot several (say 3) states with high and low spreads of Q estimate by actions i.e.\n",
        "$$\\max_a \\hat Q(s,a) - \\min_a \\hat Q(s,a)\\$$\n",
        "Please take those states from different episodes to make sure that the states are really different.\n",
        "\n",
        "What should high and low spread mean at least in the world of perfect Q-fucntions?\n",
        "\n",
        "Comment the states you like most.\n",
        "\n",
        "**2.** Plot several (say 3) states with high td-error and several states with high values of\n",
        "$$| \\hat V_{Monte-Carlo}(s) - \\hat V_{agent}(s)|,$$ \n",
        "$$\\hat V_{agent}(s)=\\max_a \\hat Q(s,a).$$ Please take those states from different episodes to make sure that the states are really different. From what part (i.e. beginning, middle, end) of an episode did these states come from?\n",
        "\n",
        "Comment the states you like most."
      ]
    },
    {
      "cell_type": "code",
      "execution_count": null,
      "metadata": {
        "id": "pAZjqTV184wG"
      },
      "outputs": [],
      "source": [
        "from utils import play_and_log_episode, img_by_obs\n",
        "\n",
        "<YOUR CODE>"
      ]
    },
    {
      "cell_type": "markdown",
      "metadata": {
        "id": "BDDqRzCH84wG"
      },
      "source": [
        "## Bonus II (1-5 pts). Get High Score!\n",
        "\n",
        "1 point to you for each 50 points of your agent. Truncated by 5 points. Starting with 50 points, **not** 50 + threshold.\n",
        "\n",
        "One way is to train for several days and use heavier hardware (why not actually).\n",
        "\n",
        "Another way is to apply modifications (see **Bonus III**)."
      ]
    },
    {
      "cell_type": "markdown",
      "metadata": {
        "id": "cPGhVr3_84wG"
      },
      "source": [
        "## Bonus III (2+ pts). Apply modifications to DQN.\n",
        "\n",
        "For inspiration see [Rainbow](https://arxiv.org/abs/1710.02298) - a version of q-learning that combines lots of them.\n",
        "\n",
        "Points for Bonus II and Bonus III fully stack. So if modified agent gets score 250+ you get 5 pts for Bonus II + points for modifications. If the final score is 40 then you get the points for modifications.\n",
        "\n",
        "\n",
        "Some modifications:\n",
        "* [Prioritized experience replay](https://arxiv.org/abs/1511.05952) (5 pts for your own implementation, 3 pts for using a ready one)\n",
        "* [double q-learning](https://arxiv.org/abs/1509.06461) (2 pts)\n",
        "* [dueling q-learning](https://arxiv.org/abs/1511.06581) (2 pts)\n",
        "* multi-step heuristics (see [Rainbow](https://arxiv.org/abs/1710.02298)) (3 pts)\n",
        "* [Noisy Nets](https://arxiv.org/abs/1706.10295) (3 pts)\n",
        "* [distributional RL](https://arxiv.org/abs/1707.06887)(distributional and distributed stand for different things here) (5 pts)\n",
        "* Other modifications (2+ pts depending on complexity)"
      ]
    },
    {
      "cell_type": "markdown",
      "metadata": {
        "id": "_UBhIKdX84wH"
      },
      "source": [
        "## Bonus IV (4+ pts). Distributed RL.\n",
        "\n",
        "Solve the task in a distributed way. It can strongly speed up learning. See [article](https://arxiv.org/pdf/1602.01783.pdf) or some guides."
      ]
    },
    {
      "cell_type": "markdown",
      "metadata": {
        "id": "xlgTI-2x84wH"
      },
      "source": [
        "**As usual bonus points for all the tasks fully stack.**"
      ]
    },
    {
      "cell_type": "code",
      "execution_count": null,
      "metadata": {
        "id": "LRV4M4FC84wH"
      },
      "outputs": [],
      "source": [
        ""
      ]
    }
  ],
  "metadata": {
    "language_info": {
      "name": "python"
    },
    "colab": {
      "name": "Копия блокнота \"homework_pytorch_main.ipynb\"",
      "provenance": [],
      "collapsed_sections": [],
      "include_colab_link": true
    },
    "accelerator": "GPU",
    "kernelspec": {
      "name": "python3",
      "display_name": "Python 3"
    }
  },
  "nbformat": 4,
  "nbformat_minor": 0
}